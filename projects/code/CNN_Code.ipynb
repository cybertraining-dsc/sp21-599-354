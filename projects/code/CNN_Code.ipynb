{
  "nbformat": 4,
  "nbformat_minor": 0,
  "metadata": {
    "colab": {
      "name": "CNN_Code.ipynb",
      "provenance": [],
      "collapsed_sections": [],
      "machine_shape": "hm",
      "mount_file_id": "1674uV5yJBEsu4i-ZqMeslG9ZQmXMj_f-",
      "authorship_tag": "ABX9TyPtrC8nFGnZatIgNA5obyPC",
      "include_colab_link": true
    },
    "kernelspec": {
      "name": "python3",
      "display_name": "Python 3"
    },
    "language_info": {
      "name": "python"
    },
    "accelerator": "GPU"
  },
  "cells": [
    {
      "cell_type": "markdown",
      "metadata": {
        "id": "view-in-github",
        "colab_type": "text"
      },
      "source": [
        "<a href=\"https://colab.research.google.com/github/cybertraining-dsc/sp21-599-354/blob/main/projects/code/CNN_Code.ipynb\" target=\"_parent\"><img src=\"https://colab.research.google.com/assets/colab-badge.svg\" alt=\"Open In Colab\"/></a>"
      ]
    },
    {
      "cell_type": "code",
      "metadata": {
        "id": "7SPeiwo8dTUZ",
        "colab": {
          "base_uri": "https://localhost:8080/"
        },
        "outputId": "d8d9b939-8a19-415a-d207-10c24ab49e89"
      },
      "source": [
        "!pip install cloudmesh-common\n",
        "\n",
        "# importing the libraries\n",
        "import pandas as pd\n",
        "import numpy as np\n",
        "\n",
        "# for reading and displaying images\n",
        "from skimage.io import imread\n",
        "import matplotlib.pyplot as plt\n",
        "%matplotlib inline\n",
        "\n",
        "# for creating validation set\n",
        "from sklearn.model_selection import train_test_split\n",
        "\n",
        "# for evaluating the model\n",
        "from sklearn.metrics import accuracy_score\n",
        "from tqdm import tqdm\n",
        "\n",
        "# PyTorch libraries and modules\n",
        "import torch\n",
        "from torch.autograd import Variable\n",
        "from torch.nn import Linear, ReLU, CrossEntropyLoss, Sequential, Conv2d, MaxPool2d, Module, Softmax, BatchNorm2d, Dropout\n",
        "from torch.optim import Adam, SGD\n",
        "\n",
        "from cloudmesh.common.StopWatch import StopWatch\n"
      ],
      "execution_count": 1,
      "outputs": [
        {
          "output_type": "stream",
          "text": [
            "Requirement already satisfied: cloudmesh-common in /usr/local/lib/python3.7/dist-packages (4.3.66)\n",
            "Requirement already satisfied: pytz in /usr/local/lib/python3.7/dist-packages (from cloudmesh-common) (2018.9)\n",
            "Requirement already satisfied: psutil in /usr/local/lib/python3.7/dist-packages (from cloudmesh-common) (5.4.8)\n",
            "Requirement already satisfied: python-dateutil in /usr/local/lib/python3.7/dist-packages (from cloudmesh-common) (2.8.1)\n",
            "Requirement already satisfied: humanize in /usr/local/lib/python3.7/dist-packages (from cloudmesh-common) (0.5.1)\n",
            "Requirement already satisfied: tabulate in /usr/local/lib/python3.7/dist-packages (from cloudmesh-common) (0.8.9)\n",
            "Requirement already satisfied: python-hostlist in /usr/local/lib/python3.7/dist-packages (from cloudmesh-common) (1.21)\n",
            "Requirement already satisfied: tqdm in /usr/local/lib/python3.7/dist-packages (from cloudmesh-common) (4.41.1)\n",
            "Requirement already satisfied: oyaml in /usr/local/lib/python3.7/dist-packages (from cloudmesh-common) (1.0)\n",
            "Requirement already satisfied: pathlib in /usr/local/lib/python3.7/dist-packages (from cloudmesh-common) (1.0.1)\n",
            "Requirement already satisfied: simplejson in /usr/local/lib/python3.7/dist-packages (from cloudmesh-common) (3.17.2)\n",
            "Requirement already satisfied: requests in /usr/local/lib/python3.7/dist-packages (from cloudmesh-common) (2.23.0)\n",
            "Requirement already satisfied: colorama in /usr/local/lib/python3.7/dist-packages (from cloudmesh-common) (0.4.4)\n",
            "Requirement already satisfied: pyfiglet in /usr/local/lib/python3.7/dist-packages (from cloudmesh-common) (0.8.post1)\n",
            "Requirement already satisfied: six>=1.5 in /usr/local/lib/python3.7/dist-packages (from python-dateutil->cloudmesh-common) (1.15.0)\n",
            "Requirement already satisfied: pyyaml in /usr/local/lib/python3.7/dist-packages (from oyaml->cloudmesh-common) (3.13)\n",
            "Requirement already satisfied: certifi>=2017.4.17 in /usr/local/lib/python3.7/dist-packages (from requests->cloudmesh-common) (2020.12.5)\n",
            "Requirement already satisfied: idna<3,>=2.5 in /usr/local/lib/python3.7/dist-packages (from requests->cloudmesh-common) (2.10)\n",
            "Requirement already satisfied: urllib3!=1.25.0,!=1.25.1,<1.26,>=1.21.1 in /usr/local/lib/python3.7/dist-packages (from requests->cloudmesh-common) (1.24.3)\n",
            "Requirement already satisfied: chardet<4,>=3.0.2 in /usr/local/lib/python3.7/dist-packages (from requests->cloudmesh-common) (3.0.4)\n"
          ],
          "name": "stdout"
        }
      ]
    },
    {
      "cell_type": "code",
      "metadata": {
        "id": "qrL55qgdd8gi",
        "colab": {
          "base_uri": "https://localhost:8080/",
          "height": 206
        },
        "outputId": "622439f3-9151-4745-f4b7-394473806984"
      },
      "source": [
        "\n",
        "# loading dataset\n",
        "train = pd.read_csv('/content/drive/MyDrive/plant_data/train_str.csv')\n",
        "#train = pd.read_csv('/content/drive/MyDrive/plant_data/train_rot.csv')\n",
        "test = pd.read_csv('/content/drive/MyDrive/plant_data/test.csv')\n",
        "predict = pd.read_csv('/content/drive/MyDrive/plant_data/test.csv')\n",
        "\n",
        "\n",
        "train.head()"
      ],
      "execution_count": 2,
      "outputs": [
        {
          "output_type": "execute_result",
          "data": {
            "text/html": [
              "<div>\n",
              "<style scoped>\n",
              "    .dataframe tbody tr th:only-of-type {\n",
              "        vertical-align: middle;\n",
              "    }\n",
              "\n",
              "    .dataframe tbody tr th {\n",
              "        vertical-align: top;\n",
              "    }\n",
              "\n",
              "    .dataframe thead th {\n",
              "        text-align: right;\n",
              "    }\n",
              "</style>\n",
              "<table border=\"1\" class=\"dataframe\">\n",
              "  <thead>\n",
              "    <tr style=\"text-align: right;\">\n",
              "      <th></th>\n",
              "      <th>id</th>\n",
              "      <th>label</th>\n",
              "    </tr>\n",
              "  </thead>\n",
              "  <tbody>\n",
              "    <tr>\n",
              "      <th>0</th>\n",
              "      <td>205</td>\n",
              "      <td>1</td>\n",
              "    </tr>\n",
              "    <tr>\n",
              "      <th>1</th>\n",
              "      <td>6</td>\n",
              "      <td>0</td>\n",
              "    </tr>\n",
              "    <tr>\n",
              "      <th>2</th>\n",
              "      <td>202</td>\n",
              "      <td>1</td>\n",
              "    </tr>\n",
              "    <tr>\n",
              "      <th>3</th>\n",
              "      <td>148</td>\n",
              "      <td>1</td>\n",
              "    </tr>\n",
              "    <tr>\n",
              "      <th>4</th>\n",
              "      <td>383</td>\n",
              "      <td>2</td>\n",
              "    </tr>\n",
              "  </tbody>\n",
              "</table>\n",
              "</div>"
            ],
            "text/plain": [
              "    id  label\n",
              "0  205      1\n",
              "1    6      0\n",
              "2  202      1\n",
              "3  148      1\n",
              "4  383      2"
            ]
          },
          "metadata": {
            "tags": []
          },
          "execution_count": 2
        }
      ]
    },
    {
      "cell_type": "code",
      "metadata": {
        "id": "mrZPj6rLen0y",
        "colab": {
          "base_uri": "https://localhost:8080/"
        },
        "outputId": "b47dcff9-d57b-4cd8-a757-d9b5ba6dbff2"
      },
      "source": [
        "# loading training images\n",
        "train_img = []\n",
        "\n",
        "for img_name in tqdm(train['id']):\n",
        "    # defining the image path\n",
        "    image_path = f'/content/drive/MyDrive/plant_data/train_str/{img_name}.png'\n",
        "    # reading the image\n",
        "    img = imread(image_path, as_gray=True)\n",
        "    # normalizing the pixel values\n",
        "    img /= 255.0\n",
        "    # converting the type of pixel to float 32\n",
        "    img = img.astype('float32')\n",
        "    # appending the image into the list\n",
        "    train_img.append(img)\n",
        "\n",
        "# converting the list to numpy array\n",
        "train_x = np.array(train_img)\n",
        "# defining the target\n",
        "train_y = train['label'].values\n",
        "train_x.shape"
      ],
      "execution_count": 3,
      "outputs": [
        {
          "output_type": "stream",
          "text": [
            "100%|██████████| 420/420 [00:02<00:00, 165.06it/s]\n"
          ],
          "name": "stderr"
        },
        {
          "output_type": "execute_result",
          "data": {
            "text/plain": [
              "(420, 400, 400)"
            ]
          },
          "metadata": {
            "tags": []
          },
          "execution_count": 3
        }
      ]
    },
    {
      "cell_type": "code",
      "metadata": {
        "id": "zQvmB198eyhC",
        "colab": {
          "base_uri": "https://localhost:8080/",
          "height": 630
        },
        "outputId": "a46a8f38-50a0-4364-c519-993093a8fb7c"
      },
      "source": [
        "# visualizing images\n",
        "i = 0\n",
        "plt.figure(figsize=(10,10))\n",
        "plt.subplot(221), plt.imshow(train_x[i], cmap='gray')\n",
        "plt.subplot(222), plt.imshow(train_x[i+25], cmap='gray')\n",
        "plt.subplot(223), plt.imshow(train_x[i+50], cmap='gray')\n",
        "plt.subplot(224), plt.imshow(train_x[i+75], cmap='gray')"
      ],
      "execution_count": 4,
      "outputs": [
        {
          "output_type": "execute_result",
          "data": {
            "text/plain": [
              "(<matplotlib.axes._subplots.AxesSubplot at 0x7f03c01ebd90>,\n",
              " <matplotlib.image.AxesImage at 0x7f03c016e250>)"
            ]
          },
          "metadata": {
            "tags": []
          },
          "execution_count": 4
        },
        {
          "output_type": "display_data",
          "data": {
            "image/png": "[encoded data removed]",
            "text/plain": [
              "<Figure size 720x720 with 4 Axes>"
            ]
          },
          "metadata": {
            "tags": [],
            "needs_background": "light"
          }
        }
      ]
    },
    {
      "cell_type": "code",
      "metadata": {
        "id": "dKi3ZQfie120",
        "colab": {
          "base_uri": "https://localhost:8080/"
        },
        "outputId": "46eebb5f-370b-4016-e643-d64af344d087"
      },
      "source": [
        "# create validation set\n",
        "train_x, val_x, train_y, val_y = train_test_split(train_x, train_y, test_size = 0.1)\n",
        "(train_x.shape, train_y.shape), (val_x.shape, val_y.shape)"
      ],
      "execution_count": 5,
      "outputs": [
        {
          "output_type": "execute_result",
          "data": {
            "text/plain": [
              "(((378, 400, 400), (378,)), ((42, 400, 400), (42,)))"
            ]
          },
          "metadata": {
            "tags": []
          },
          "execution_count": 5
        }
      ]
    },
    {
      "cell_type": "code",
      "metadata": {
        "id": "B6Zm-2mNe5Jb",
        "colab": {
          "base_uri": "https://localhost:8080/"
        },
        "outputId": "b76f94de-48dd-4622-d81f-b536f603a4a1"
      },
      "source": [
        "# converting training images into torch format\n",
        "train_x = train_x.reshape(378, 1, 400, 400)\n",
        "#train_x = train_x.reshape(1512, 1, 400, 400)\n",
        "\n",
        "train_x  = torch.from_numpy(train_x)\n",
        "\n",
        "# converting the target into torch format\n",
        "train_y = train_y.astype(int);\n",
        "train_y = torch.from_numpy(train_y)\n",
        "\n",
        "# shape of training data\n",
        "train_x.shape, train_y.shape"
      ],
      "execution_count": 6,
      "outputs": [
        {
          "output_type": "execute_result",
          "data": {
            "text/plain": [
              "(torch.Size([378, 1, 400, 400]), torch.Size([378]))"
            ]
          },
          "metadata": {
            "tags": []
          },
          "execution_count": 6
        }
      ]
    },
    {
      "cell_type": "code",
      "metadata": {
        "id": "tmiQBcHMe9-t",
        "colab": {
          "base_uri": "https://localhost:8080/"
        },
        "outputId": "566a5bcb-75c7-4851-a9d7-ecbd7a347123"
      },
      "source": [
        "# converting validation images into torch format\n",
        "val_x = val_x.reshape(42, 1, 400, 400)\n",
        "#val_x = val_x.reshape(168, 1, 400, 400)\n",
        "val_x  = torch.from_numpy(val_x)\n",
        "\n",
        "# converting the target into torch format\n",
        "val_y = val_y.astype(int);\n",
        "val_y = torch.from_numpy(val_y)\n",
        "\n",
        "# shape of validation data\n",
        "val_x.shape, val_y.shape"
      ],
      "execution_count": 7,
      "outputs": [
        {
          "output_type": "execute_result",
          "data": {
            "text/plain": [
              "(torch.Size([42, 1, 400, 400]), torch.Size([42]))"
            ]
          },
          "metadata": {
            "tags": []
          },
          "execution_count": 7
        }
      ]
    },
    {
      "cell_type": "code",
      "metadata": {
        "id": "izhFFGQifBgU"
      },
      "source": [
        "class Net(Module):   \n",
        "    def __init__(self):\n",
        "        super(Net, self).__init__()\n",
        "\n",
        "        self.cnn_layers = Sequential(\n",
        "            # Defining a 2D convolution layer\n",
        "            Conv2d(1, 4, kernel_size=3, stride=1, padding=1),\n",
        "            BatchNorm2d(4),\n",
        "            ReLU(inplace=True),\n",
        "            MaxPool2d(kernel_size=2, stride=2),\n",
        "            # Defining another 2D convolution layer\n",
        "            Conv2d(4, 4, kernel_size=3, stride=1, padding=1),\n",
        "            BatchNorm2d(4),\n",
        "            ReLU(inplace=True),\n",
        "            MaxPool2d(kernel_size=2, stride=2),\n",
        "        )\n",
        "\n",
        "        self.linear_layers = Sequential(\n",
        "            Linear(40000, 10)\n",
        "        )\n",
        "\n",
        "    # Defining the forward pass    \n",
        "    def forward(self, x):\n",
        "        x = self.cnn_layers(x)\n",
        "        x = x.view(x.size(0), -1)\n",
        "        x = self.linear_layers(x)\n",
        "        return x"
      ],
      "execution_count": 8,
      "outputs": []
    },
    {
      "cell_type": "code",
      "metadata": {
        "id": "FxI2Jv1YfGQU",
        "colab": {
          "base_uri": "https://localhost:8080/"
        },
        "outputId": "9557fcc4-4308-4034-cea4-4fe8df3c5490"
      },
      "source": [
        "# defining the model\n",
        "model = Net()\n",
        "# defining the optimizer\n",
        "optimizer = Adam(model.parameters(), lr=0.07)\n",
        "# defining the loss function\n",
        "criterion = CrossEntropyLoss()\n",
        "# checking if GPU is available\n",
        "if torch.cuda.is_available():\n",
        "    model = model.cuda()\n",
        "    criterion = criterion.cuda()\n",
        "    \n",
        "print(model)"
      ],
      "execution_count": 9,
      "outputs": [
        {
          "output_type": "stream",
          "text": [
            "Net(\n",
            "  (cnn_layers): Sequential(\n",
            "    (0): Conv2d(1, 4, kernel_size=(3, 3), stride=(1, 1), padding=(1, 1))\n",
            "    (1): BatchNorm2d(4, eps=1e-05, momentum=0.1, affine=True, track_running_stats=True)\n",
            "    (2): ReLU(inplace=True)\n",
            "    (3): MaxPool2d(kernel_size=2, stride=2, padding=0, dilation=1, ceil_mode=False)\n",
            "    (4): Conv2d(4, 4, kernel_size=(3, 3), stride=(1, 1), padding=(1, 1))\n",
            "    (5): BatchNorm2d(4, eps=1e-05, momentum=0.1, affine=True, track_running_stats=True)\n",
            "    (6): ReLU(inplace=True)\n",
            "    (7): MaxPool2d(kernel_size=2, stride=2, padding=0, dilation=1, ceil_mode=False)\n",
            "  )\n",
            "  (linear_layers): Sequential(\n",
            "    (0): Linear(in_features=40000, out_features=10, bias=True)\n",
            "  )\n",
            ")\n"
          ],
          "name": "stdout"
        }
      ]
    },
    {
      "cell_type": "code",
      "metadata": {
        "id": "jMgR7i9VfKnm"
      },
      "source": [
        "def train(epoch):\n",
        "    model.train()\n",
        "    tr_loss = 0\n",
        "    # getting the training set\n",
        "    x_train, y_train = Variable(train_x), Variable(train_y)\n",
        "    # getting the validation set\n",
        "    x_val, y_val = Variable(val_x), Variable(val_y)\n",
        "    # converting the data into GPU format\n",
        "    if torch.cuda.is_available():\n",
        "        x_train = x_train.cuda()\n",
        "        y_train = y_train.cuda()\n",
        "        x_val = x_val.cuda()\n",
        "        y_val = y_val.cuda()\n",
        "\n",
        "    # clearing the Gradients of the model parameters\n",
        "    optimizer.zero_grad()\n",
        "    \n",
        "    # prediction for training and validation set\n",
        "    output_train = model(x_train)\n",
        "    output_val = model(x_val)\n",
        "\n",
        "    # computing the training and validation loss\n",
        "    loss_train = criterion(output_train, y_train)\n",
        "    loss_val = criterion(output_val, y_val)\n",
        "    train_losses.append(loss_train)\n",
        "    val_losses.append(loss_val)\n",
        "\n",
        "    # computing the updated weights of all the model parameters\n",
        "    loss_train.backward()\n",
        "    optimizer.step()\n",
        "    tr_loss = loss_train.item()\n",
        "    if epoch%2 == 0:\n",
        "        # printing the validation loss\n",
        "        print('Epoch : ',epoch+1, '\\t', 'loss :', loss_val)"
      ],
      "execution_count": 10,
      "outputs": []
    },
    {
      "cell_type": "code",
      "metadata": {
        "id": "pkl6jjg2fQRY",
        "colab": {
          "base_uri": "https://localhost:8080/"
        },
        "outputId": "d4b3e0c6-67e5-4b14-ec30-e00953dac6df"
      },
      "source": [
        "StopWatch.start(\"Train\")\n",
        "# defining the number of epochs\n",
        "n_epochs = 15\n",
        "# empty list to store training losses\n",
        "train_losses = []\n",
        "# empty list to store validation losses\n",
        "val_losses = []\n",
        "# training the model\n",
        "for epoch in range(n_epochs):\n",
        "    train(epoch)\n",
        "\n",
        "StopWatch.stop(\"Train\")"
      ],
      "execution_count": 11,
      "outputs": [
        {
          "output_type": "stream",
          "text": [
            "Epoch :  1 \t loss : tensor(2.4620, device='cuda:0', grad_fn=<NllLossBackward>)\n",
            "Epoch :  3 \t loss : tensor(259.3098, device='cuda:0', grad_fn=<NllLossBackward>)\n",
            "Epoch :  5 \t loss : tensor(37.9111, device='cuda:0', grad_fn=<NllLossBackward>)\n",
            "Epoch :  7 \t loss : tensor(89.5009, device='cuda:0', grad_fn=<NllLossBackward>)\n",
            "Epoch :  9 \t loss : tensor(56.7021, device='cuda:0', grad_fn=<NllLossBackward>)\n",
            "Epoch :  11 \t loss : tensor(43.8870, device='cuda:0', grad_fn=<NllLossBackward>)\n",
            "Epoch :  13 \t loss : tensor(26.5657, device='cuda:0', grad_fn=<NllLossBackward>)\n",
            "Epoch :  15 \t loss : tensor(16.5749, device='cuda:0', grad_fn=<NllLossBackward>)\n"
          ],
          "name": "stdout"
        }
      ]
    },
    {
      "cell_type": "code",
      "metadata": {
        "id": "N-DKaziMfTtu",
        "colab": {
          "base_uri": "https://localhost:8080/",
          "height": 265
        },
        "outputId": "9cb57073-3037-4a4e-a33d-d7292d7de710"
      },
      "source": [
        "# plotting the training and validation loss\n",
        "plt.plot(train_losses, label='Training loss')\n",
        "plt.plot(val_losses, label='Validation loss')\n",
        "plt.legend()\n",
        "plt.show()"
      ],
      "execution_count": 12,
      "outputs": [
        {
          "output_type": "display_data",
          "data": {
            "image/png": "[encoded data removed]",
            "text/plain": [
              "<Figure size 432x288 with 1 Axes>"
            ]
          },
          "metadata": {
            "tags": [],
            "needs_background": "light"
          }
        }
      ]
    },
    {
      "cell_type": "code",
      "metadata": {
        "id": "-f6t4UKffWrF",
        "colab": {
          "base_uri": "https://localhost:8080/"
        },
        "outputId": "f332b426-313a-49d4-b061-99ac34245edf"
      },
      "source": [
        "# prediction for training set\n",
        "with torch.no_grad():\n",
        "    output = model(train_x.cuda())\n",
        "    \n",
        "softmax = torch.exp(output).cpu()\n",
        "prob = list(softmax.numpy())\n",
        "predictions = np.argmax(prob, axis=1)\n",
        "\n",
        "# accuracy on training set\n",
        "accuracy_score(train_y, predictions)"
      ],
      "execution_count": 13,
      "outputs": [
        {
          "output_type": "execute_result",
          "data": {
            "text/plain": [
              "0.6402116402116402"
            ]
          },
          "metadata": {
            "tags": []
          },
          "execution_count": 13
        }
      ]
    },
    {
      "cell_type": "code",
      "metadata": {
        "id": "jqnw102-faJA",
        "colab": {
          "base_uri": "https://localhost:8080/"
        },
        "outputId": "e8e56dd9-f69a-4152-c877-6ab5050a496d"
      },
      "source": [
        "\n",
        "# prediction for validation set\n",
        "with torch.no_grad():\n",
        "    output = model(val_x.cuda())\n",
        "\n",
        "softmax = torch.exp(output).cpu()\n",
        "prob = list(softmax.numpy())\n",
        "predictions = np.argmax(prob, axis=1)\n",
        "\n",
        "# accuracy on validation set\n",
        "accuracy_score(val_y, predictions)"
      ],
      "execution_count": 14,
      "outputs": [
        {
          "output_type": "execute_result",
          "data": {
            "text/plain": [
              "0.5476190476190477"
            ]
          },
          "metadata": {
            "tags": []
          },
          "execution_count": 14
        }
      ]
    },
    {
      "cell_type": "code",
      "metadata": {
        "id": "sN2CFORCfeMz",
        "colab": {
          "base_uri": "https://localhost:8080/"
        },
        "outputId": "a5a41715-5e8c-4518-e742-4a50bb672431"
      },
      "source": [
        "# loading test images\n",
        "test_img = []\n",
        "for img_name in tqdm(test['id']):\n",
        "    # defining the image path\n",
        "    image_path = f'/content/drive/MyDrive/plant_data/test/{img_name}.png'\n",
        "    # reading the image\n",
        "    img = imread(image_path, as_gray=True)\n",
        "    # normalizing the pixel values\n",
        "    img /= 255.0\n",
        "    # converting the type of pixel to float 32\n",
        "    img = img.astype('float32')\n",
        "    # appending the image into the list\n",
        "    test_img.append(img)\n",
        "\n",
        "# converting the list to numpy array\n",
        "test_x = np.array(test_img)\n",
        "test_x.shape"
      ],
      "execution_count": 15,
      "outputs": [
        {
          "output_type": "stream",
          "text": [
            "100%|██████████| 47/47 [00:00<00:00, 163.43it/s]\n"
          ],
          "name": "stderr"
        },
        {
          "output_type": "execute_result",
          "data": {
            "text/plain": [
              "(47, 400, 400)"
            ]
          },
          "metadata": {
            "tags": []
          },
          "execution_count": 15
        }
      ]
    },
    {
      "cell_type": "code",
      "metadata": {
        "id": "guPsqzlSfnZG",
        "colab": {
          "base_uri": "https://localhost:8080/"
        },
        "outputId": "7f784be6-424e-4529-ad90-32cd76e07e84"
      },
      "source": [
        "# converting training images into torch format\n",
        "test_x = test_x.reshape(47, 1, 400, 400)\n",
        "test_x  = torch.from_numpy(test_x)\n",
        "test_x.shape"
      ],
      "execution_count": 16,
      "outputs": [
        {
          "output_type": "execute_result",
          "data": {
            "text/plain": [
              "torch.Size([47, 1, 400, 400])"
            ]
          },
          "metadata": {
            "tags": []
          },
          "execution_count": 16
        }
      ]
    },
    {
      "cell_type": "code",
      "metadata": {
        "id": "AwSFiVsrfshZ"
      },
      "source": [
        "StopWatch.start(\"Test\")\n",
        "# generating predictions for test set\n",
        "with torch.no_grad():\n",
        "    output = model(test_x.cuda())\n",
        "\n",
        "softmax = torch.exp(output).cpu()\n",
        "prob = list(softmax.numpy())\n",
        "predictions = np.argmax(prob, axis=1)\n",
        "StopWatch.start(\"Test\")"
      ],
      "execution_count": 17,
      "outputs": []
    },
    {
      "cell_type": "code",
      "metadata": {
        "id": "VzO2440DfuqB",
        "colab": {
          "base_uri": "https://localhost:8080/",
          "height": 206
        },
        "outputId": "54427e21-a26f-46b4-d24e-69bb5057959d"
      },
      "source": [
        "# replacing the label with prediction\n",
        "predict['label'] = predictions\n",
        "predict.head()"
      ],
      "execution_count": 18,
      "outputs": [
        {
          "output_type": "execute_result",
          "data": {
            "text/html": [
              "<div>\n",
              "<style scoped>\n",
              "    .dataframe tbody tr th:only-of-type {\n",
              "        vertical-align: middle;\n",
              "    }\n",
              "\n",
              "    .dataframe tbody tr th {\n",
              "        vertical-align: top;\n",
              "    }\n",
              "\n",
              "    .dataframe thead th {\n",
              "        text-align: right;\n",
              "    }\n",
              "</style>\n",
              "<table border=\"1\" class=\"dataframe\">\n",
              "  <thead>\n",
              "    <tr style=\"text-align: right;\">\n",
              "      <th></th>\n",
              "      <th>id</th>\n",
              "      <th>label</th>\n",
              "    </tr>\n",
              "  </thead>\n",
              "  <tbody>\n",
              "    <tr>\n",
              "      <th>0</th>\n",
              "      <td>400</td>\n",
              "      <td>1</td>\n",
              "    </tr>\n",
              "    <tr>\n",
              "      <th>1</th>\n",
              "      <td>300</td>\n",
              "      <td>1</td>\n",
              "    </tr>\n",
              "    <tr>\n",
              "      <th>2</th>\n",
              "      <td>10</td>\n",
              "      <td>1</td>\n",
              "    </tr>\n",
              "    <tr>\n",
              "      <th>3</th>\n",
              "      <td>250</td>\n",
              "      <td>1</td>\n",
              "    </tr>\n",
              "    <tr>\n",
              "      <th>4</th>\n",
              "      <td>40</td>\n",
              "      <td>2</td>\n",
              "    </tr>\n",
              "  </tbody>\n",
              "</table>\n",
              "</div>"
            ],
            "text/plain": [
              "    id  label\n",
              "0  400      1\n",
              "1  300      1\n",
              "2   10      1\n",
              "3  250      1\n",
              "4   40      2"
            ]
          },
          "metadata": {
            "tags": []
          },
          "execution_count": 18
        }
      ]
    },
    {
      "cell_type": "code",
      "metadata": {
        "id": "YYQCznh-fxug"
      },
      "source": [
        "# saving the file\n",
        "predict.to_csv('/content/drive/MyDrive/plant_data/str_predict.csv', index=False)\n",
        "#predict.to_csv('/content/drive/MyDrive/plant_data/rot_predict.csv', index=False)"
      ],
      "execution_count": 19,
      "outputs": []
    },
    {
      "cell_type": "code",
      "metadata": {
        "id": "58kLU0bmqIQh",
        "colab": {
          "base_uri": "https://localhost:8080/"
        },
        "outputId": "4e1d394e-cab8-4efe-f6c2-9b8b94dc652f"
      },
      "source": [
        "StopWatch.benchmark()"
      ],
      "execution_count": 20,
      "outputs": [
        {
          "output_type": "stream",
          "text": [
            "\n",
            "+---------------------+------------------------------------------------------------------+\n",
            "| Attribute           | Value                                                            |\n",
            "|---------------------+------------------------------------------------------------------|\n",
            "| BUG_REPORT_URL      | \"https://bugs.launchpad.net/ubuntu/\"                             |\n",
            "| DISTRIB_CODENAME    | bionic                                                           |\n",
            "| DISTRIB_DESCRIPTION | \"Ubuntu 18.04.5 LTS\"                                             |\n",
            "| DISTRIB_ID          | Ubuntu                                                           |\n",
            "| DISTRIB_RELEASE     | 18.04                                                            |\n",
            "| HOME_URL            | \"https://www.ubuntu.com/\"                                        |\n",
            "| ID                  | ubuntu                                                           |\n",
            "| ID_LIKE             | debian                                                           |\n",
            "| NAME                | \"Ubuntu\"                                                         |\n",
            "| PRETTY_NAME         | \"Ubuntu 18.04.5 LTS\"                                             |\n",
            "| PRIVACY_POLICY_URL  | \"https://www.ubuntu.com/legal/terms-and-policies/privacy-policy\" |\n",
            "| SUPPORT_URL         | \"https://help.ubuntu.com/\"                                       |\n",
            "| UBUNTU_CODENAME     | bionic                                                           |\n",
            "| VERSION             | \"18.04.5 LTS (Bionic Beaver)\"                                    |\n",
            "| VERSION_CODENAME    | bionic                                                           |\n",
            "| VERSION_ID          | \"18.04\"                                                          |\n",
            "| cpu_count           | 4                                                                |\n",
            "| mem.active          | 2.6 GiB                                                          |\n",
            "| mem.available       | 23.1 GiB                                                         |\n",
            "| mem.free            | 19.0 GiB                                                         |\n",
            "| mem.inactive        | 3.3 GiB                                                          |\n",
            "| mem.percent         | 9.3 %                                                            |\n",
            "| mem.total           | 25.5 GiB                                                         |\n",
            "| mem.used            | 3.1 GiB                                                          |\n",
            "| platform.version    | #1 SMP Thu Jul 23 08:00:38 PDT 2020                              |\n",
            "| python              | 3.7.10 (default, May  3 2021, 02:48:31)                          |\n",
            "|                     | [GCC 7.5.0]                                                      |\n",
            "| python.pip          | 19.3.1                                                           |\n",
            "| python.version      | 3.7.10                                                           |\n",
            "| sys.platform        | linux                                                            |\n",
            "| uname.machine       | x86_64                                                           |\n",
            "| uname.node          | c8928710c15b                                                     |\n",
            "| uname.processor     | x86_64                                                           |\n",
            "| uname.release       | 4.19.112+                                                        |\n",
            "| uname.system        | Linux                                                            |\n",
            "| uname.version       | #1 SMP Thu Jul 23 08:00:38 PDT 2020                              |\n",
            "| user                | collab                                                           |\n",
            "+---------------------+------------------------------------------------------------------+\n",
            "\n",
            "+--------+----------+--------+-------+---------------------+-------+--------------+--------+-------+-------------------------------------+\n",
            "| Name   | Status   |   Time |   Sum | Start               | tag   | Node         | User   | OS    | Version                             |\n",
            "|--------+----------+--------+-------+---------------------+-------+--------------+--------+-------+-------------------------------------|\n",
            "| Train  | ok       |  6.522 | 6.522 | 2021-05-08 00:23:26 |       | c8928710c15b | collab | Linux | #1 SMP Thu Jul 23 08:00:38 PDT 2020 |\n",
            "| Test   | failed   |        | 0     | 2021-05-08 00:23:34 |       | c8928710c15b | collab | Linux | #1 SMP Thu Jul 23 08:00:38 PDT 2020 |\n",
            "+--------+----------+--------+-------+---------------------+-------+--------------+--------+-------+-------------------------------------+\n",
            "\n",
            "# csv,timer,status,time,sum,start,tag,uname.node,user,uname.system,platform.version\n",
            "# csv,Train,ok,6.522,6.522,2021-05-08 00:23:26,,c8928710c15b,collab,Linux,#1 SMP Thu Jul 23 08:00:38 PDT 2020\n",
            "# csv,Test,failed,None,0.0,2021-05-08 00:23:34,,c8928710c15b,collab,Linux,#1 SMP Thu Jul 23 08:00:38 PDT 2020\n",
            "\n"
          ],
          "name": "stdout"
        }
      ]
    }
  ]
}